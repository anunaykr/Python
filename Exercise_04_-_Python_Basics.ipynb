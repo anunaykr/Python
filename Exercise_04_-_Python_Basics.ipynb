{
 "cells": [
  {
   "cell_type": "markdown",
   "metadata": {},
   "source": [
    "<img src=\"http://upxacademy.com/wp-content/uploads/2016/07/upx-logo-02-e1467712070244.png\">\n",
    "# Python Basics 02\n",
    "## Exercise 04\n",
    "\n",
    "### Introducing Functions\n",
    "\n",
    "#### Greeter\n",
    "- Write a function that takes in a person's name, and prints out a greeting.\n",
    "    - The greeting must be at least three lines, and the person's name must be in each line.\n",
    "- Use your function to greet at least three different people.\n",
    "- **Bonus:** Store your three people in a list, and call your function from a `for` loop.\n",
    "\n",
    "#### Full Names\n",
    "- Write a function that takes in a first name and a last name, and prints out a nicely formatted full name, in a sentence. Your sentence could be as simple as, \"Hello, *full\\_name*.\"\n",
    "- Call your function three times, with a different name each time.\n",
    "\n",
    "#### Addition Calculator\n",
    "- Write a function that takes in two numbers, and adds them together. Make your function print out a sentence showing the two numbers, and the result.\n",
    "- Call your function with three different sets of numbers.\n",
    "\n",
    "#### Return Calculator\n",
    "- Modify *Addition Calculator* so that your function returns the sum of the two numbers. The printing should happen outside of the function.\n"
   ]
  },
  {
   "cell_type": "code",
   "execution_count": 2,
   "metadata": {
    "collapsed": true
   },
   "outputs": [],
   "source": [
    "def greeter(name):\n",
    "    print(\"\"\"\n",
    "           Good Morning ! {0}\n",
    "           How are you doing today? {0}\n",
    "           {0},Let's start the work today with fun.\n",
    "          \"\"\".format(name))\n"
   ]
  },
  {
   "cell_type": "code",
   "execution_count": 3,
   "metadata": {
    "collapsed": false
   },
   "outputs": [
    {
     "name": "stdout",
     "output_type": "stream",
     "text": [
      "\n",
      "           Good Morning ! AJAY\n",
      "           How are you doing today? AJAY\n",
      "           AJAY,Let's start the work today with fun.\n",
      "          \n",
      "\n",
      "           Good Morning ! ATUL\n",
      "           How are you doing today? ATUL\n",
      "           ATUL,Let's start the work today with fun.\n",
      "          \n",
      "\n",
      "           Good Morning ! PRABHAKAR\n",
      "           How are you doing today? PRABHAKAR\n",
      "           PRABHAKAR,Let's start the work today with fun.\n",
      "          \n"
     ]
    }
   ],
   "source": [
    "list1 = [\"aJAY\",\"atul\",\"PRABHAKAR\"]\n",
    "for i in list1:\n",
    "    greeter(i.upper())"
   ]
  },
  {
   "cell_type": "code",
   "execution_count": 4,
   "metadata": {
    "collapsed": true
   },
   "outputs": [],
   "source": [
    "def fullname(fname,lname):\n",
    "    name = fname + \" \" + lname\n",
    "    print ( \"Hello, {0}\".format(name))"
   ]
  },
  {
   "cell_type": "code",
   "execution_count": 8,
   "metadata": {
    "collapsed": false
   },
   "outputs": [
    {
     "name": "stdout",
     "output_type": "stream",
     "text": [
      "Hello, Ajay Alok\n",
      "Hello, Subodh A\n",
      "Hello, Rd Sharma\n"
     ]
    }
   ],
   "source": [
    "fullname(\"Ajay\" ,\"Alok\")\n",
    "fullname(\"Subodh\" ,\"A\")\n",
    "fullname(\"Rd\" ,\"Sharma\")"
   ]
  },
  {
   "cell_type": "code",
   "execution_count": 9,
   "metadata": {
    "collapsed": true
   },
   "outputs": [],
   "source": [
    "def sum(num1, num2):\n",
    "    sum = num1 + num2\n",
    "    print(\"sum of 2 number {0} & {1} is {2}\".format(num1,num2, num1+num2))\n",
    "    "
   ]
  },
  {
   "cell_type": "code",
   "execution_count": 13,
   "metadata": {
    "collapsed": false
   },
   "outputs": [
    {
     "name": "stdout",
     "output_type": "stream",
     "text": [
      "sum of 2 number 2 & 2 is 4\n",
      "sum of 2 number 5.4 & 1.2 is 6.6000000000000005\n",
      "sum of 2 number 1111.0 & 1000 is 2111.0\n"
     ]
    }
   ],
   "source": [
    "sum(2,2)\n",
    "sum(5.4,1.2)\n",
    "sum(1111.0,1000)"
   ]
  },
  {
   "cell_type": "code",
   "execution_count": 14,
   "metadata": {
    "collapsed": true
   },
   "outputs": [],
   "source": [
    "def sum(num1, num2):\n",
    "    return(num1+num2)\n"
   ]
  },
  {
   "cell_type": "code",
   "execution_count": 20,
   "metadata": {
    "collapsed": false
   },
   "outputs": [
    {
     "name": "stdout",
     "output_type": "stream",
     "text": [
      "sum of 2 number 2 & 2 is 4\n",
      "sum of 2 number 5.4 & 1.2 is 6.6000000000000005\n",
      "sum of 2 number 1111.0 & 100000000 is 100001111.0\n"
     ]
    }
   ],
   "source": [
    "num1 = 2\n",
    "num2 = 2\n",
    "print(\"sum of 2 number {0} & {1} is {2}\".format(num1,num2, sum(num1,num2)))\n",
    "num1 = 5.4\n",
    "num2 = 1.2\n",
    "print(\"sum of 2 number {0} & {1} is {2}\".format(num1,num2, sum(num1,num2)))\n",
    "num1 = 1111.0\n",
    "num2 = 100000000\n",
    "print(\"sum of 2 number {0} & {1} is {2}\".format(num1,num2, sum(num1,num2)))"
   ]
  },
  {
   "cell_type": "code",
   "execution_count": null,
   "metadata": {
    "collapsed": true
   },
   "outputs": [],
   "source": []
  }
 ],
 "metadata": {
  "anaconda-cloud": {},
  "kernelspec": {
   "display_name": "Python 3",
   "language": "python",
   "name": "python3"
  },
  "language_info": {
   "codemirror_mode": {
    "name": "ipython",
    "version": 3
   },
   "file_extension": ".py",
   "mimetype": "text/x-python",
   "name": "python",
   "nbconvert_exporter": "python",
   "pygments_lexer": "ipython3",
   "version": "3.6.0"
  }
 },
 "nbformat": 4,
 "nbformat_minor": 0
}
