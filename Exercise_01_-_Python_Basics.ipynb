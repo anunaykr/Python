{
 "cells": [
  {
   "cell_type": "markdown",
   "metadata": {},
   "source": [
    "# UpX Academy - Python Basics 01\n",
    "## Exercise 01\n",
    "\n",
    "#### Variables\n",
    "\n",
    "###### Hello World - variable\n",
    "\n",
    "    Store your own version of the message \"Hello World\" in a variable, and print it.\n",
    "\n",
    "###### One Variable, Two Messages:\n",
    "\n",
    "    Store a message in a variable, and then print that message.\n",
    "    Store a new message in the same variable, and then print that new message.\n",
    "\n",
    "###### First Name Cases\n",
    "\n",
    "    Store your first name, in lowercase, in a variable.\n",
    "    Using that one variable, print your name in lowercase, Titlecase, and UPPERCASE.\n",
    "\n",
    "###### About This Person\n",
    "\n",
    "    Choose a person you look up to. Store their first and last names in separate variables.\n",
    "    Use concatenation to make a sentence about this person, and store that sentence in a variable.-\n",
    "    Print the sentence.\n",
    "\n",
    "###### Name Strip\n",
    "\n",
    "    Store your first name in a variable, but include at least two kinds of whitespace on each side of your name.\n",
    "    Print your name as it is stored.\n",
    "    Print your name with whitespace stripped from the left side, then from the right side, then from both sides.\n",
    "    \n",
    "\n"
   ]
  },
  {
   "cell_type": "code",
   "execution_count": 1,
   "metadata": {
    "collapsed": false
   },
   "outputs": [
    {
     "name": "stdout",
     "output_type": "stream",
     "text": [
      "Hello World!\n"
     ]
    }
   ],
   "source": [
    "message = \"Hello World!\"\n",
    "print( message)"
   ]
  },
  {
   "cell_type": "code",
   "execution_count": 2,
   "metadata": {
    "collapsed": false
   },
   "outputs": [
    {
     "name": "stdout",
     "output_type": "stream",
     "text": [
      "Hello World!\n",
      "Enter your name! Anunay\n",
      "Good Morning , Mr. Anunay\n"
     ]
    }
   ],
   "source": [
    "message = \"Hello World!\"\n",
    "print( message)\n",
    "name = input(\"Enter your name! \")\n",
    "message = \"Good Morning , Mr. {0}\".format(name)\n",
    "print(message)"
   ]
  },
  {
   "cell_type": "code",
   "execution_count": 5,
   "metadata": {
    "collapsed": false
   },
   "outputs": [
    {
     "name": "stdout",
     "output_type": "stream",
     "text": [
      "Enter your First name:  Anunay\n",
      "your name in lower case : anunay\n",
      "your name in title case : Anunay\n",
      "your name in Upper case : ANUNAY\n",
      "your name in Swap case : aNUNAY\n",
      "your name in case fold : anunay\n"
     ]
    }
   ],
   "source": [
    "name = input(\"Enter your First name:  \")\n",
    "print ( \"your name in lower case : \" + name.lower())\n",
    "print ( \"your name in title case : \" + name.title())\n",
    "print ( \"your name in Upper case : \" + name.upper())\n",
    "print ( \"your name in Swap case : \" + name.swapcase())\n",
    "print ( \"your name in case fold : \" + name.casefold())"
   ]
  },
  {
   "cell_type": "code",
   "execution_count": 6,
   "metadata": {
    "collapsed": false
   },
   "outputs": [
    {
     "name": "stdout",
     "output_type": "stream",
     "text": [
      "Enter your First name:  Anunay\n",
      "Enter your First name:  Kumar\n",
      "Good Morning ! Kumar Anunay\n"
     ]
    }
   ],
   "source": [
    "fname = input(\"Enter your First name:  \")\n",
    "lname = input(\"Enter your First name:  \")\n",
    "message = \"Good Morning ! {0} {1}\".format(lname,fname)\n",
    "print(message)"
   ]
  },
  {
   "cell_type": "code",
   "execution_count": 10,
   "metadata": {
    "collapsed": false
   },
   "outputs": [
    {
     "name": "stdout",
     "output_type": "stream",
     "text": [
      "  Anunay  \n",
      "Anunay  \n",
      "  Anunay\n",
      "Anunay\n"
     ]
    }
   ],
   "source": [
    "myname = \"  Anunay  \"\n",
    "print(myname)\n",
    "print(myname.lstrip())\n",
    "print(myname.rstrip())\n",
    "print(myname.strip())"
   ]
  },
  {
   "cell_type": "code",
   "execution_count": null,
   "metadata": {
    "collapsed": true
   },
   "outputs": [],
   "source": []
  }
 ],
 "metadata": {
  "anaconda-cloud": {},
  "kernelspec": {
   "display_name": "Python 3",
   "language": "python",
   "name": "python3"
  },
  "language_info": {
   "codemirror_mode": {
    "name": "ipython",
    "version": 3
   },
   "file_extension": ".py",
   "mimetype": "text/x-python",
   "name": "python",
   "nbconvert_exporter": "python",
   "pygments_lexer": "ipython3",
   "version": "3.6.0"
  }
 },
 "nbformat": 4,
 "nbformat_minor": 0
}
