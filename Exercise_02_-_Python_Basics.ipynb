{
 "cells": [
  {
   "cell_type": "markdown",
   "metadata": {},
   "source": [
    "<img src=\"http://upxacademy.com/wp-content/uploads/2016/07/upx-logo-02-e1467712070244.png\">\n",
    "# UpX Academy - Python Basics 02\n",
    "## Exercise 02\n",
    "\n",
    "### Lists\n",
    "\n",
    "#### First List\n",
    "- Store the values 'python', 'c', and 'java' in a list. Print each of these values out, using their position in the list.\n",
    "\n",
    "#### First Neat List\n",
    "- Store the values 'python', 'c', and 'java' in a list. Print a statement about each of these values, using their position in the list.\n",
    "- Your statement could simply be, 'A nice programming language is *value*.'\n"
   ]
  },
  {
   "cell_type": "code",
   "execution_count": 180,
   "metadata": {
    "collapsed": false
   },
   "outputs": [
    {
     "name": "stdout",
     "output_type": "stream",
     "text": [
      "A nice programming language is python.\n",
      "A nice programming language is c.\n",
      "A nice programming language is java.\n"
     ]
    }
   ],
   "source": [
    "list1 = ['python','c','java']\n",
    "print(\"A nice programming language is {0}.\".format(list1[0]))\n",
    "print(\"A nice programming language is {0}.\".format(list1[1]))\n",
    "print(\"A nice programming language is {0}.\".format(list1[2]))"
   ]
  },
  {
   "cell_type": "markdown",
   "metadata": {},
   "source": [
    "#### Working List\n",
    "- Make a list that includes four careers, such as 'programmer' and 'truck driver'.\n",
    "- Use the *list.index()* function to find the index of one career in your list.\n",
    "- Use the *in* function to show that this career is in your list.\n",
    "- Use the *append()* function to add a new career to your list.\n",
    "- Use the *insert()* function to add a new career at the beginning of the list.\n",
    "- Use a loop to show all the careers in your list.\n",
    "\n",
    "#### Ordered Working List\n",
    "- Start with the list you created in *Working List*.\n",
    "- You are going to print out the list in a number of different orders.\n",
    "- Each time you print the list, use a for loop rather than printing the raw list.\n",
    "- Print a message each time telling us what order we should see the list in.\n",
    "    - Print the list in its original order.\n",
    "    - Print the list in alphabetical order.\n",
    "    - Print the list in reverse alphabetical order.\n",
    "    - Print the list in the reverse order from what it started.\n",
    "    - Permanently sort the list in alphabetical order, and then print it out.\n",
    "    - Permanently sort the list in reverse alphabetical order, and then print it out.\n",
    "\n",
    "#### Ordered Numbers\n",
    "- Make a list of 5 numbers, in a random order.\n",
    "- You are going to print out the list in a number of different orders.\n",
    "- Each time you print the list, use a for loop rather than printing the raw list.\n",
    "- Print a message each time telling us what order we should see the list in.\n",
    "    - Print the numbers in the original order.\n",
    "    - Print the numbers in increasing order.\n",
    "    - Print the numbers in decreasing order.\n",
    "    - Print the numbers in the reverse order from how they started.\n",
    "    - Permanently sort the numbers in increasing order, and then print them out.\n",
    "    - Permanently sort the numbers in descreasing order, and then print them out.\n",
    "\n",
    "#### List Lengths\n",
    "- Copy two or three of the lists you made from the previous exercises, or make up two or three new lists.\n",
    "- Print out a series of statements that tell us how long each list is."
   ]
  },
  {
   "cell_type": "code",
   "execution_count": 181,
   "metadata": {
    "collapsed": false
   },
   "outputs": [
    {
     "name": "stdout",
     "output_type": "stream",
     "text": [
      "printing the list in original order\n",
      " lawyer\n",
      " programmer\n",
      " truck driver\n",
      " engineer\n",
      " carpenter\n",
      " doctor\n",
      "printing the list in Alphabetical order\n",
      " carpenter\n",
      " doctor\n",
      " engineer\n",
      " lawyer\n",
      " programmer\n",
      " truck driver\n",
      "printing the list in  reverse alphabetical order\n",
      " truck driver\n",
      " programmer\n",
      " lawyer\n",
      " engineer\n",
      " doctor\n",
      " carpenter\n",
      "Print the numbers in the original order\n",
      " 20\n",
      " 100\n",
      " -20\n",
      " 0\n",
      " 40\n",
      "Print the numbers in increasing order\n",
      " -20\n",
      " 0\n",
      " 20\n",
      " 40\n",
      " 100\n",
      "Print the numbers in decreasing order.\n",
      " 100\n",
      " 40\n",
      " 20\n",
      " 0\n",
      " -20\n",
      "Print the numbers in the reverse order from how they started.\n",
      " 20\n",
      " 100\n",
      " -20\n",
      " 0\n",
      " 40\n",
      "Permanently sort the numbers in increasing order, and then print them out.\n",
      " -20\n",
      " 0\n",
      " 20\n",
      " 40\n",
      " 100\n",
      "Permanently sort the numbers in descreasing order, and then print them out.\n",
      " 100\n",
      " 40\n",
      " 20\n",
      " 0\n",
      " -20\n",
      "[100, 40, 20, 0, -20]\n",
      "[40, 20]\n",
      "[]\n"
     ]
    }
   ],
   "source": [
    "#### Working List\n",
    "\n",
    "workinglist = ['programmer' , 'truck driver','engineer','carpenter']\n",
    "#profession = input('Enter your profession : ')\n",
    "#print(workinglist.index(profession))\n",
    "#print(workinglist)\n",
    "workinglist.append('doctor')\n",
    "#print(workinglist)\n",
    "workinglist.insert(0,'lawyer')\n",
    "#print(workinglist)\n",
    "#if profession in workinglist:\n",
    "#    print(\"{0} is found in list {1}\".format(profession, 'workinglist'))\n",
    "#else:\n",
    "#    print(\"{0} is not found in list {1}\".format(profession, 'workinglist'))\n",
    "#print(\"showing all career in list :\")\n",
    "#for i in workinglist:\n",
    "#    print(\"index of {0} is {1}\".format(i,workinglist.index(i)))\n",
    "\n",
    "#### Ordered Working List\n",
    "\n",
    "print(\"printing the list in original order\")\n",
    "for i in workinglist:\n",
    "    print(\" \" + i)\n",
    "print(\"printing the list in Alphabetical order\")\n",
    "workinglist.sort()\n",
    "for i in workinglist:\n",
    "    print(\" \" + i)\n",
    "print(\"printing the list in  reverse alphabetical order\")\n",
    "workinglist.sort(reverse=True)\n",
    "for i in workinglist:\n",
    "    print(\" \" + i)\n",
    "    \n",
    "#### Ordered Numbers\n",
    "\n",
    "numlist = [20,100,-20,0,40]\n",
    "\n",
    "print(\"Print the numbers in the original order\")\n",
    "for i in numlist:\n",
    "    print(\" \" + str(i))\n",
    "print(\"Print the numbers in increasing order\")\n",
    "alist = numlist[0:]\n",
    "alist.sort()\n",
    "for i in alist:\n",
    "    print(\" \" + str(i))\n",
    "print(\"Print the numbers in decreasing order.\")\n",
    "alist = numlist[0:]\n",
    "alist.sort(reverse=True)\n",
    "for i in alist:\n",
    "    print(\" \" + str(i))\n",
    "print(\"Print the numbers in the reverse order from how they started.\")\n",
    "for i in numlist:\n",
    "    print(\" \" + str(i))\n",
    "print(\"Permanently sort the numbers in increasing order, and then print them out.\")\n",
    "numlist.sort()\n",
    "for i in numlist:\n",
    "    print(\" \" + str(i))\n",
    "numlist.sort(reverse=True)\n",
    "print(\"Permanently sort the numbers in descreasing order, and then print them out.\")\n",
    "for i in numlist:\n",
    "    print(\" \" + str(i))\n",
    "    \n",
    "    \n",
    "#### List Lengths\n",
    "nlist = numlist[0:]\n",
    "nlist1 = nlist[1:3]\n",
    "nlist2 = nlist[-3:2]\n",
    "print(nlist)\n",
    "print(nlist1)\n",
    "print(nlist2)"
   ]
  },
  {
   "cell_type": "markdown",
   "metadata": {},
   "source": [
    "#### Famous People\n",
    "- Make a list that includes the names of four famous people.\n",
    "- Remove each person from the list, one at a time, using each of the four methods we have just seen:\n",
    "    - Pop the last item from the list, and pop any item except the last item.\n",
    "    - Remove one item by its position, and one item by its value.\n",
    "- Print out a message that there are no famous people left in your list, and print your list to prove that it is empty."
   ]
  },
  {
   "cell_type": "code",
   "execution_count": 182,
   "metadata": {
    "collapsed": false
   },
   "outputs": [
    {
     "name": "stdout",
     "output_type": "stream",
     "text": [
      "['Anunay', 'Modi', 'Atal', 'Ronaldo']\n",
      "4\n",
      "Ronaldo\n",
      "3\n",
      "Atal\n",
      "['Anunay', 'Modi']\n",
      "['Modi']\n",
      "[]\n",
      "List is empty\n"
     ]
    }
   ],
   "source": [
    "famous = [\"Anunay\" , \"Modi\", \"Atal\" , \"Ronaldo\"]\n",
    "print(famous)\n",
    "print(len(famous))\n",
    "print(famous.pop())\n",
    "print(len(famous))\n",
    "if (len(famous)> 1): print(famous.pop())\n",
    "print(famous)\n",
    "famous.remove(\"Anunay\")\n",
    "print(famous)\n",
    "del famous[-1]\n",
    "print(famous)\n",
    "if(len(famous)== 0): print(\"List is empty\")"
   ]
  },
  {
   "cell_type": "markdown",
   "metadata": {},
   "source": [
    "#### Alphabet Slices\n",
    "- Store the first ten letters of the alphabet in a list.\n",
    "- Use a slice to print out the first three letters of the alphabet.\n",
    "- Use a slice to print out any three letters from the middle of your list.\n",
    "- Use a slice to print out the letters from any point in the middle of your list, to the end.\n",
    "\n",
    "#### Protected List\n",
    "- Your goal in this exercise is to prove that copying a list protects the original list.\n",
    "- Make a list with three people's names in it.\n",
    "- Use a slice to make a copy of the entire list.\n",
    "- Add at least two new names to the new copy of the list.\n",
    "- Make a loop that prints out all of the names in the original list, along with a message that this is the original list.\n",
    "- Make a loop that prints out all of the names in the copied list, along with a message that this is the copied list."
   ]
  },
  {
   "cell_type": "code",
   "execution_count": 183,
   "metadata": {
    "collapsed": false
   },
   "outputs": [
    {
     "name": "stdout",
     "output_type": "stream",
     "text": [
      "['A', 'B', 'C', 'D', 'E', 'F', 'G', 'H', 'I', 'J']\n",
      "Length of list is 10\n",
      "first 3 letters of the alphabet\n",
      "['A', 'B', 'C']\n",
      "print out any three letters from the middle of your list\n",
      "['D', 'E', 'F']\n",
      "Use a slice to print out the letters from any point in the middle of your list, to the end.\n",
      "['F', 'G', 'H', 'I', 'J']\n",
      "['Anunay', 'Jagadish', 'Rakesha']\n",
      "['Anunay', 'Jagadish', 'Rakesha']\n",
      "Printing original list\n",
      "Anunay\n",
      "Jagadish\n",
      "Rakesha\n",
      "Printing slice list\n",
      "Anunay\n",
      "Jagadish\n",
      "Rakesha\n",
      "Johnson\n",
      "Raju\n"
     ]
    }
   ],
   "source": [
    "###Alphabet Slices\n",
    "\n",
    "alphabet = ['A','B','C','D','E','F','G','H','I','J']\n",
    "print(alphabet)\n",
    "print(\"Length of list is {0}\".format(len(alphabet)) )\n",
    "print(\"first 3 letters of the alphabet\")\n",
    "print(alphabet[0:3])\n",
    "print(\"print out any three letters from the middle of your list\")\n",
    "alen = len(alphabet)// 2\n",
    "print(alphabet[alen - 2 :alen + 1])\n",
    "print(\"Use a slice to print out the letters from any point in the middle of your list, to the end.\")\n",
    "print(alphabet[alen :])\n",
    "\n",
    "\n",
    "#### Protected List\n",
    "#org list\n",
    "orglist = [\"Anunay\",\"Jagadish\",\"Rakesha\"]\n",
    "print(orglist)\n",
    "#slice\n",
    "slicelist = orglist[::]\n",
    "print(slicelist)\n",
    "slicelist.append(\"Johnson\") \n",
    "slicelist.append(\"Raju\") \n",
    "print(\"Printing original list\")\n",
    "for i in orglist : print(i)\n",
    "print(\"Printing slice list\")\n",
    "for i in slicelist: print(i)\n"
   ]
  },
  {
   "cell_type": "markdown",
   "metadata": {},
   "source": [
    "#### First Twenty\n",
    "- Use the *range()* function to store the first twenty numbers (1-20) in a list, and print them out.\n",
    "\n",
    "#### Five Wallets\n",
    "- Imagine five wallets with different amounts of cash in them. Store these five values in a list, and print out the following sentences:\n",
    "    - \"The fattest wallet has $ *value* in it.\"\n",
    "    - \"The skinniest wallet has $ *value* in it.\"\n",
    "    - \"All together, these wallets have $ *value* in them.\""
   ]
  },
  {
   "cell_type": "code",
   "execution_count": 184,
   "metadata": {
    "collapsed": false
   },
   "outputs": [
    {
     "name": "stdout",
     "output_type": "stream",
     "text": [
      "[1, 2, 3, 4, 5, 6, 7, 8, 9, 10, 11, 12, 13, 14, 15, 16, 17, 18, 19]\n",
      "[10, 2.5, 0.0, 17, 200]\n",
      "Fattest walet is :200\n",
      "skinniest walet is :0.0\n",
      "Sum of all wallets : 229.5\n"
     ]
    }
   ],
   "source": [
    "list1= list(range(1,20))\n",
    "print(list1)\n",
    "wallets = [10,2.5,0.00,17,200]\n",
    "print(wallets)\n",
    "max = 0\n",
    "min = 0\n",
    "sum = 0\n",
    "for i in wallets:\n",
    "    sum +=i\n",
    "    if max< i:\n",
    "        max = i\n",
    "    else:\n",
    "        min = i    \n",
    "print(\"Fattest walet is :\" + str(max))\n",
    "print(\"skinniest walet is :\" + str(min))\n",
    "print(\"Sum of all wallets : \" + str(sum))"
   ]
  },
  {
   "cell_type": "markdown",
   "metadata": {},
   "source": [
    "#### Multiples of Ten\n",
    "- Make a list of the first ten multiples of ten (10, 20, 30... 90, 100). There are a number of ways to do this, but try to do it using a list comprehension. Print out your list.\n",
    "\n",
    "#### Cubes\n",
    "- We saw how to make a list of the first ten squares. Make a list of the first ten cubes (1, 8, 27... 1000) using a list comprehension, and print them out.\n",
    "\n",
    "#### Awesomeness\n",
    "- Store five names in a list. Make a second list that adds the phrase \"is awesome!\" to each name, using a list comprehension. Print out the awesome version of the names.\n"
   ]
  },
  {
   "cell_type": "code",
   "execution_count": 185,
   "metadata": {
    "collapsed": false
   },
   "outputs": [
    {
     "name": "stdout",
     "output_type": "stream",
     "text": [
      "[10, 20, 30, 40, 50, 60, 70, 80, 90, 100]\n",
      "[1, 8, 27, 64, 125, 216, 343, 512, 729, 1000]\n",
      "['Anunay is aswesome!', 'Ajay is aswesome!', 'Sanjay is aswesome!', 'Vijay is aswesome!', 'Ranjay is aswesome!']\n"
     ]
    }
   ],
   "source": [
    "list2 = [10*i for i in range(11)if i > 0]\n",
    "print(list2)\n",
    "cubes = [i**3 for i in range(11)if i > 0]\n",
    "print(cubes)\n",
    "list1=[\"Anunay\",\"Ajay\", \"Sanjay\",\"Vijay\", \"Ranjay\"]\n",
    "listx = [i+\" is aswesome!\" for i in list1]\n",
    "print(listx)\n"
   ]
  },
  {
   "cell_type": "markdown",
   "metadata": {},
   "source": [
    "#### Listing a Sentence\n",
    "- Store a single sentence in a variable. Use a for loop to print each character from your sentence on a separate line.\n",
    "\n",
    "#### Sentence List\n",
    "- Store a single sentence in a variable. Create a list from your sentence. Print your raw list (don't use a loop, just print the list).\n",
    "\n",
    "#### Sentence Slices\n",
    "- Store a sentence in a variable. Using slices, print out the first five characters, any five consecutive characters from the middle of the sentence, and the last five characters of the sentence.\n",
    "\n",
    "#### Finding Python\n",
    "- Store a sentence in a variable, making sure you use the word *Python* at least twice in the sentence.\n",
    "- Use the *in* keyword to prove that the word *Python* is actually in the sentence.\n",
    "- Use the *find()* function to show where the word *Python* first appears in the sentence.\n",
    "- Use the *rfind()* function to show the last place *Python* appears in the sentence.\n",
    "- Use the *count()* function to show how many times the word *Python* appears in your sentence.\n",
    "- Use the *split()* function to break your sentence into a list of words. Print the raw list, and use a loop to print each word on its own line.\n",
    "- Use the *replace()* function to change *Python* to *Ruby* in your sentence."
   ]
  },
  {
   "cell_type": "code",
   "execution_count": 186,
   "metadata": {
    "collapsed": false
   },
   "outputs": [
    {
     "name": "stdout",
     "output_type": "stream",
     "text": [
      "The q\n",
      " This\n",
      "ebook\n",
      "yes! Python found\n",
      "position where first python found in sentence is 54.\n",
      "position last found python in sentence is 72.\n",
      "count of word python in sentence is 2.\n",
      "['The', 'quick', 'brown', 'fox', 'jumps', 'over', 'the', 'lazy', 'dog', '!', 'This', 'is', 'python', 'test', 'using', 'python', 'jupyter', 'notebook']\n",
      "The\n",
      "quick\n",
      "brown\n",
      "fox\n",
      "jumps\n",
      "over\n",
      "the\n",
      "lazy\n",
      "dog\n",
      "!\n",
      "This\n",
      "is\n",
      "python\n",
      "test\n",
      "using\n",
      "python\n",
      "jupyter\n",
      "notebook\n",
      "The quick brown fox jumps over the lazy dog ! This is python test using python jupyter notebook\n",
      "The quick brown fox jumps over the lazy dog ! This is ruby test using ruby jupyter notebook\n"
     ]
    }
   ],
   "source": [
    "#Listing a Sentence\n",
    "sentence = \"The quick brown fox jumps over the lazy dog ! This is python test using python jupyter notebook\"\n",
    "#for s in sentence: print(s)\n",
    "#Sentence List\n",
    "slist = [s for s in sentence]\n",
    "#print(slist)\n",
    "#Sentence Slices\n",
    "print(sentence[0:5])\n",
    "leng=len(sentence)\n",
    "i =(leng//2) - 2\n",
    "j =(leng//2) + 3\n",
    "\n",
    "print(sentence[i:j])\n",
    "print(sentence[-5:])\n",
    "\n",
    "#Finding Python\n",
    "if \"python\" in sentence: print(\"yes! Python found\")\n",
    "print(\"position where first {0} found in sentence is {1}.\".format(\"python\",sentence.find(\"python\")))\n",
    "print(\"position last found {0} in sentence is {1}.\".format(\"python\",sentence.rfind(\"python\")))\n",
    "print(\"count of word {0} in sentence is {1}.\".format(\"python\",sentence.count(\"python\")))\n",
    "\n",
    "blist = sentence.split(\" \")\n",
    "print(blist)\n",
    "for word in blist: print(word)\n",
    "print(sentence)\n",
    "print(sentence.replace('python','ruby'))\n"
   ]
  },
  {
   "cell_type": "code",
   "execution_count": null,
   "metadata": {
    "collapsed": true
   },
   "outputs": [],
   "source": []
  }
 ],
 "metadata": {
  "anaconda-cloud": {},
  "kernelspec": {
   "display_name": "Python 3",
   "language": "python",
   "name": "python3"
  },
  "language_info": {
   "codemirror_mode": {
    "name": "ipython",
    "version": 3
   },
   "file_extension": ".py",
   "mimetype": "text/x-python",
   "name": "python",
   "nbconvert_exporter": "python",
   "pygments_lexer": "ipython3",
   "version": "3.6.0"
  }
 },
 "nbformat": 4,
 "nbformat_minor": 0
}
