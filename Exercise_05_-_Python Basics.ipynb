{
 "cells": [
  {
   "cell_type": "markdown",
   "metadata": {},
   "source": [
    "<img src=\"http://upxacademy.com/wp-content/uploads/2016/07/upx-logo-02-e1467712070244.png\">\n",
    "# UpX Academy - Python Basics\n",
    "## Exercise 05\n"
   ]
  },
  {
   "cell_type": "markdown",
   "metadata": {},
   "source": [
    "### Question 1\n",
    "\n",
    "Given the following dictionary:"
   ]
  },
  {
   "cell_type": "code",
   "execution_count": 21,
   "metadata": {
    "collapsed": true
   },
   "outputs": [],
   "source": [
    "\n",
    "inventory = {\n",
    "    'gold' : 500,\n",
    "    'pouch' : ['flint', 'twine', 'gemstone'],\n",
    "    'backpack' : ['xylophone','dagger', 'bedroll','bread loaf']\n",
    "}"
   ]
  },
  {
   "cell_type": "markdown",
   "metadata": {},
   "source": [
    "Try to do the following:\n",
    "\n",
    "Add a key to inventory called 'pocket'.\n",
    "\n",
    "Set the value of 'pocket' to be a list consisting of the strings 'seashell', 'strange berry', and 'lint'.\n",
    "\n",
    "sort()the items in the list stored under the 'backpack' key.\n",
    "\n",
    "Then .remove('dagger') from the list of items stored under the 'backpack' key.\n",
    "\n",
    "Add 50 to the number stored under the 'gold' key."
   ]
  },
  {
   "cell_type": "code",
   "execution_count": 22,
   "metadata": {
    "collapsed": false
   },
   "outputs": [
    {
     "name": "stdout",
     "output_type": "stream",
     "text": [
      "['xylophone', 'dagger', 'bedroll', 'bread loaf']\n",
      "['bedroll', 'bread loaf', 'dagger', 'xylophone']\n",
      "['bedroll', 'bread loaf', 'xylophone']\n",
      "500\n",
      "550\n"
     ]
    }
   ],
   "source": [
    "inventory ['pocket']= [ 'seashell', 'strange berry',  'lint']\n",
    "print(inventory ['backpack'])\n",
    "inventory ['backpack'].sort()\n",
    "print(inventory ['backpack'])\n",
    "inventory ['backpack'].remove('dagger')\n",
    "print(inventory ['backpack'])\n",
    "print((inventory ['gold']))\n",
    "inventory ['gold'] += 50\n",
    "print((inventory ['gold']))"
   ]
  },
  {
   "cell_type": "markdown",
   "metadata": {},
   "source": [
    "### Question 2\n",
    "\n",
    "Folow the steps below:\n",
    "\n",
    "Create two new dictionaries called prices and stocks using {} format like the example above.\n",
    "\n",
    "Put these values in your prices dictionary:\n",
    "\n",
    "\"banana\": 4,\n",
    "\n",
    "\"apple\": 2,\n",
    "\n",
    "\"orange\": 1.5,\n",
    "\n",
    "\"pear\": 3\n",
    "\n",
    "Put these values in your stocks dictionary:\n",
    "\n",
    "\"banana\": 12,\n",
    "\n",
    "\"apple\": 24,\n",
    "\n",
    "\"orange\": 15,\n",
    "\n",
    "\"pear\": 35\n",
    "\n",
    "Loop through each key in prices.\n",
    "For each key, print out the key along with its price and stock information.\n",
    "Print the answer in the following format:\n",
    "\n",
    "apple\n",
    "\n",
    "price: 2\n",
    "\n",
    "stock: 0\n",
    "\n",
    "Let's determine how much money you would make if you sold all of your food.\n",
    "\n",
    "Create a variable called total and set it to zero.\n",
    "\n",
    "Loop through the prices dictionaries.For each key in prices, multiply the number in prices by the number in stock.\n",
    "\n",
    "Print that value into the console and then add it to total.\n",
    "\n",
    "Finally, outside your loop, print total."
   ]
  },
  {
   "cell_type": "code",
   "execution_count": 33,
   "metadata": {
    "collapsed": false
   },
   "outputs": [
    {
     "name": "stdout",
     "output_type": "stream",
     "text": [
      "Item : banana is having price: 4 and stock : 12 \n",
      "Item : apple is having price: 2 and stock : 24 \n",
      "Item : orange is having price: 1.5 and stock : 15 \n",
      "Item : pear is having price: 3 and stock : 35 \n",
      "Total money collected will be $105\n"
     ]
    }
   ],
   "source": [
    "price  = {\n",
    "    \"banana\": 4,\n",
    "    \"apple\" : 2,\n",
    "    \"orange\": 1.5,\n",
    "    \"pear\"  : 3\n",
    "         }\n",
    "stock  = {\n",
    "    \"banana\": 12,\n",
    "    \"apple\" : 24,\n",
    "    \"orange\": 15,\n",
    "    \"pear\"  : 35\n",
    "         }\n",
    "total = 0.0\n",
    "for item1 in price.keys():\n",
    "    print(\"Item : {0} is having price: {1} and stock : {2} \".format(item1,price[item1],stock[item1]))\n",
    "    total = price[item1] * stock[item1]\n",
    "print(\"Total money collected will be ${0}\".format(total))"
   ]
  },
  {
   "cell_type": "markdown",
   "metadata": {},
   "source": [
    "### Question 3\n",
    "\n",
    "Follow the steps:\n",
    "\n",
    "First, make a list called groceries with the values \"banana\",\"orange\", and \"apple\".\n",
    "\n",
    "Define this two dictionaries:\n",
    "\n",
    "stock = {\n",
    "    \"banana\": 6,\n",
    "    \"apple\": 0,\n",
    "    \"orange\": 32,\n",
    "    \"pear\": 15\n",
    "}\n",
    "\n",
    "prices = {\n",
    "    \"banana\": 4,\n",
    "    \"apple\": 2,\n",
    "    \"orange\": 1.5,\n",
    "    \"pear\": 3\n",
    "}\n",
    "\n",
    "Define a function compute_bill that takes one argument food as input. \n",
    "In the function, create a variable total with an initial value of zero.\n",
    "For each item in the food list, add the price of that item to total. \n",
    "Finally, return the total. \n",
    "Ignore whether or not the item you're billing for is in stock.\n",
    "Note that your function should work for any food list.\n",
    "\n",
    "Make the following changes to your compute_bill function:\n",
    "\n",
    "While you loop through each item of food, only add the price of the item to total if the item's stock count is greater than zero.\n",
    "\n",
    "If the item is in stock and after you add the price to the total, subtract one from the item's stock count."
   ]
  },
  {
   "cell_type": "code",
   "execution_count": 50,
   "metadata": {
    "collapsed": false
   },
   "outputs": [
    {
     "name": "stdout",
     "output_type": "stream",
     "text": [
      "Stock of item 0 is having apple\n"
     ]
    },
    {
     "data": {
      "text/plain": [
       "0.0"
      ]
     },
     "execution_count": 50,
     "metadata": {},
     "output_type": "execute_result"
    }
   ],
   "source": [
    "groceries = [\"banana\",\"orange\",\"apple\"]\n",
    "stock     = {\"banana\": 6, \"apple\": 0, \"orange\": 32, \"pear\": 15   \n",
    "            }\n",
    "prices     ={\"banana\": 4,\"apple\": 2,\"orange\": 1.5,\"pear\": 3\n",
    "            }\n",
    "def compute_bill(item):\n",
    "    for item1 in stock.keys():\n",
    "        total = 0.0\n",
    "        if stock[item]> 0:\n",
    "            total += prices[item]\n",
    "            stock[item] = stock[item] - 1\n",
    "            print(\"Stock of item {0} is having {1}\".format(stock[item],item))\n",
    "            break\n",
    "        else:\n",
    "            print(\"Stock of item {0} is having {1}\".format(stock[item],item))\n",
    "            break\n",
    "    return(total)\n",
    "\n",
    "compute_bill('apple')\n",
    "\n"
   ]
  },
  {
   "cell_type": "code",
   "execution_count": null,
   "metadata": {
    "collapsed": true
   },
   "outputs": [],
   "source": []
  }
 ],
 "metadata": {
  "kernelspec": {
   "display_name": "Python 3",
   "language": "python",
   "name": "python3"
  },
  "language_info": {
   "codemirror_mode": {
    "name": "ipython",
    "version": 3
   },
   "file_extension": ".py",
   "mimetype": "text/x-python",
   "name": "python",
   "nbconvert_exporter": "python",
   "pygments_lexer": "ipython3",
   "version": "3.6.0"
  }
 },
 "nbformat": 4,
 "nbformat_minor": 0
}
