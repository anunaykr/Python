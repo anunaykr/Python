{
 "cells": [
  {
   "cell_type": "markdown",
   "metadata": {},
   "source": [
    "<img src=\"http://upxacademy.com/wp-content/uploads/2016/07/upx-logo-02-e1467712070244.png\">\n",
    "# UpX Academy - Python Basics\n",
    "## Exercise 03\n",
    "\n",
    "### If Statements\n",
    "\n",
    "#### Three is a Crowd\n",
    "- Make a list of names that includes at least four people.\n",
    "- Write an if test that prints a message about the room being crowded, if there are more than three people in your list.\n",
    "- Modify your list so that there are only two people in it. Use one of the methods for removing people from the list, don't just redefine the list.\n",
    "- Run your if test again. There should be no output this time, because there are less than three people in the list.\n",
    "- **Bonus:** Store your if test in a function called something like `crowd_test`.\n",
    "\n",
    "#### Three is a Crowd - Part 2\n",
    "- Save your program from *Three is a Crowd* under a new name.\n",
    "- Add an `else` statement to your if tests. If the `else` statement is run, have it print a message that the room is not very crowded.\n",
    "\n",
    "#### Six is a Mob\n",
    "- Save your program from *Three is a Crowd - Part 2* under a new name.\n",
    "- Add some names to your list, so that there are at least six people in the list.\n",
    "- Modify your tests so that\n",
    "    - If there are more than 5 people, a message is printed about there being a mob in the room.\n",
    "    - If there are 3-5 people, a message is printed about the room being crowded.\n",
    "    - If there are 1 or 2 people, a message is printed about the room not being crowded.\n",
    "    - If there are no people in the room, a message is printed abou the room being empty."
   ]
  },
  {
   "cell_type": "code",
   "execution_count": 11,
   "metadata": {
    "collapsed": false
   },
   "outputs": [
    {
     "name": "stdout",
     "output_type": "stream",
     "text": [
      "-> Room is over crowded\n",
      "Person Vijay is leaving room\n"
     ]
    }
   ],
   "source": [
    "def crowd_test(rm):\n",
    "   if len(room)> 3:\n",
    "    print (\"-> Room is over crowded\")\n",
    "\n",
    "room=[\"Anunay\",\"Ajay\",\"Sanjay\",\"Vijay\"]\n",
    "crowd_test(room)\n",
    "print(\"Person {0} is leaving room\".format(room.pop()))\n",
    "crowd_test(room)"
   ]
  },
  {
   "cell_type": "code",
   "execution_count": 30,
   "metadata": {
    "collapsed": false
   },
   "outputs": [],
   "source": [
    "def crowd_test(rm):\n",
    "   if len(room)> 5:\n",
    "    print (\"-> There is mob in room\")\n",
    "   elif 3 <= len(room) <= 5:\n",
    "    print (\"-> Room is being crowded\")\n",
    "   elif 1 <= len(room) <= 2:\n",
    "    print (\"-> Room is not being crowded\")\n",
    "   else:\n",
    "    print (\"-> Room is empty\")\n",
    "\n"
   ]
  },
  {
   "cell_type": "code",
   "execution_count": 25,
   "metadata": {
    "collapsed": false
   },
   "outputs": [
    {
     "name": "stdout",
     "output_type": "stream",
     "text": [
      "-> Room is over crowded\n",
      "Person Vijay is leaving room\n",
      "-> Room is not crowded\n"
     ]
    }
   ],
   "source": [
    "room=[\"Anunay\",\"Ajay\",\"Sanjay\",\"Vijay\"]\n",
    "crowd_test(room)\n",
    "print(\"Person {0} is leaving room\".format(room.pop()))\n",
    "crowd_test(room)"
   ]
  },
  {
   "cell_type": "code",
   "execution_count": 40,
   "metadata": {
    "collapsed": false
   },
   "outputs": [
    {
     "name": "stdout",
     "output_type": "stream",
     "text": [
      "['Anunay', 'Ajay', 'Sanjay', 'Vijay']\n",
      "-> Room is being crowded\n",
      "Person Vijay is leaving room\n",
      "['Anunay', 'Ajay', 'Sanjay']\n",
      "-> Room is being crowded\n",
      "['ranjay', 'Anunay', 'Ajay', 'Sanjay', 'Soham', 'Prakash']\n",
      "-> There is mob in room\n",
      "Person Prakash is leaving room\n",
      "['ranjay', 'Anunay', 'Ajay', 'Sanjay', 'Soham']\n",
      "-> Room is being crowded\n",
      "Person Soham is leaving room\n",
      "['ranjay', 'Anunay', 'Ajay', 'Sanjay']\n",
      "-> Room is being crowded\n",
      "Person Sanjay is leaving room\n",
      "['ranjay', 'Anunay', 'Ajay']\n",
      "-> Room is being crowded\n",
      "Person Ajay is leaving room\n",
      "['ranjay', 'Anunay']\n",
      "-> Room is not being crowded\n",
      "Person Anunay is leaving room\n",
      "['ranjay']\n",
      "-> Room is not being crowded\n",
      "Person ranjay is leaving room\n",
      "[]\n",
      "-> Room is empty\n"
     ]
    }
   ],
   "source": [
    "room=[\"Anunay\",\"Ajay\",\"Sanjay\",\"Vijay\"]\n",
    "print(room)\n",
    "crowd_test(room)\n",
    "print(\"Person {0} is leaving room\".format(room.pop()))\n",
    "print(room)\n",
    "crowd_test(room)\n",
    "room.append(\"Prakash\")\n",
    "room.insert(0,\"ranjay\")\n",
    "room.insert(-1,\"Soham\")\n",
    "print(room)\n",
    "crowd_test(room)\n",
    "print(\"Person {0} is leaving room\".format(room.pop()))\n",
    "print(room)\n",
    "crowd_test(room)\n",
    "print(\"Person {0} is leaving room\".format(room.pop()))\n",
    "print(room)\n",
    "crowd_test(room)\n",
    "print(\"Person {0} is leaving room\".format(room.pop()))\n",
    "print(room)\n",
    "crowd_test(room)\n",
    "print(\"Person {0} is leaving room\".format(room.pop()))\n",
    "print(room)\n",
    "crowd_test(room)\n",
    "print(\"Person {0} is leaving room\".format(room.pop()))\n",
    "print(room)\n",
    "crowd_test(room)\n",
    "print(\"Person {0} is leaving room\".format(room.pop()))\n",
    "print(room)\n",
    "crowd_test(room)"
   ]
  },
  {
   "cell_type": "code",
   "execution_count": null,
   "metadata": {
    "collapsed": true
   },
   "outputs": [],
   "source": []
  }
 ],
 "metadata": {
  "anaconda-cloud": {},
  "kernelspec": {
   "display_name": "Python 3",
   "language": "python",
   "name": "python3"
  },
  "language_info": {
   "codemirror_mode": {
    "name": "ipython",
    "version": 3
   },
   "file_extension": ".py",
   "mimetype": "text/x-python",
   "name": "python",
   "nbconvert_exporter": "python",
   "pygments_lexer": "ipython3",
   "version": "3.6.0"
  }
 },
 "nbformat": 4,
 "nbformat_minor": 0
}
